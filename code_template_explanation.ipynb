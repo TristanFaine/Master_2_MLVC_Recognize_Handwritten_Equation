{
  "nbformat": 4,
  "nbformat_minor": 0,
  "metadata": {
    "colab": {
      "provenance": [],
      "authorship_tag": "ABX9TyMSAaiAZbwzWfvwPTLr9YM1",
      "include_colab_link": true
    },
    "kernelspec": {
      "name": "python3",
      "display_name": "Python 3"
    },
    "language_info": {
      "name": "python"
    },
    "gpuClass": "standard",
    "accelerator": "GPU"
  },
  "cells": [
    {
      "cell_type": "markdown",
      "metadata": {
        "id": "view-in-github",
        "colab_type": "text"
      },
      "source": [
        "<a href=\"https://colab.research.google.com/github/TristanFaine/Master_2_MLVC_Recognize_Handwritten_Equation/blob/main/code_template_explanation.ipynb\" target=\"_parent\"><img src=\"https://colab.research.google.com/assets/colab-badge.svg\" alt=\"Open In Colab\"/></a>"
      ]
    },
    {
      "cell_type": "markdown",
      "source": [
        "# Task\n",
        "\n",
        "We were given InkML files, which contain metadata and a list of strokes:  \n",
        "[(0,0),(1;0)]...  \n",
        "These are on-line handwritten mathematical expressions, we'll try to recognize them by using a LG(Labelled Graph) as intermediate output.  \n",
        "The sequence of actions should look like this:  \n",
        "1) Get each stroke  \n",
        "2) Convert each stroke to symbols (can be optimized later)  \n",
        "Two strategies available: Consider only consecutive strokes, or allow X(1) number of \"time jumps\" for each possible symbol.  \n",
        "2.5) Make a classifier to ignore \"junk\" stroke combinations, such as a symbol created with every single stroke at the same time.  \n",
        "3) Classify each constructed symbol with a neural network.\n",
        "\n",
        "We'll handle spatial relations later  \n",
        "We'll also handle the final decision later, but we can add a grammar or language model at that point, "
      ],
      "metadata": {
        "id": "aWuEiNtvzSKw"
      }
    },
    {
      "cell_type": "markdown",
      "source": [
        "# Environment setup"
      ],
      "metadata": {
        "id": "B9M5CzAi6gbo"
      }
    },
    {
      "cell_type": "markdown",
      "source": [
        "Please import each file from the git repository to see how they work.  \n",
        "TODO: link from the git repo, should be feasible.\n",
        "\n",
        "Hiding my token for obvious reasons."
      ],
      "metadata": {
        "id": "aYodzelc6zQL"
      }
    },
    {
      "cell_type": "code",
      "source": [
        "!git clone https://hiddentoken@github.com/TristanFaine/Master_2_MLVC_Recognize_Handwritten_Equation.git"
      ],
      "metadata": {
        "id": "jSZh0T12tA6_",
        "outputId": "39be6c5d-a2a1-4527-d354-452840e07c7f",
        "colab": {
          "base_uri": "https://localhost:8080/"
        }
      },
      "execution_count": 2,
      "outputs": [
        {
          "output_type": "stream",
          "name": "stdout",
          "text": [
            "Cloning into 'Master_2_MLVC_Recognize_Handwritten_Equation'...\n",
            "remote: Enumerating objects: 119792, done.\u001b[K\n",
            "remote: Counting objects: 100% (81/81), done.\u001b[K\n",
            "remote: Compressing objects: 100% (59/59), done.\u001b[K\n",
            "remote: Total 119792 (delta 34), reused 61 (delta 19), pack-reused 119711\u001b[K\n",
            "Receiving objects: 100% (119792/119792), 46.21 MiB | 21.96 MiB/s, done.\n",
            "Resolving deltas: 100% (38/38), done.\n",
            "Checking out files: 100% (209488/209488), done.\n"
          ]
        }
      ]
    },
    {
      "cell_type": "code",
      "source": [
        "%cd Master_2_MLVC_Recognize_Handwritten_Equation/code"
      ],
      "metadata": {
        "id": "8fBivD4utpW2",
        "outputId": "7e2013b8-851e-4220-8030-b5ade89497c4",
        "colab": {
          "base_uri": "https://localhost:8080/"
        }
      },
      "execution_count": 3,
      "outputs": [
        {
          "output_type": "stream",
          "name": "stdout",
          "text": [
            "/content/Master_2_MLVC_Recognize_Handwritten_Equation/code\n"
          ]
        }
      ]
    },
    {
      "cell_type": "markdown",
      "source": [
        "We will first try out each script then explain what they're supposed to do and how to interpret their output."
      ],
      "metadata": {
        "id": "TWeYcdlM98vl"
      }
    },
    {
      "cell_type": "markdown",
      "source": [
        "## Data to train our classifiers\n",
        "\n",
        "[This](https://uncloud.univ-nantes.fr/index.php/s/OdAtErZgxKGjsNy) contains a bunch of symbols (in datasymbol_iso/) and expressions (in FullExpressions/) to help train our future classifiers.\n",
        "\n"
      ],
      "metadata": {
        "id": "DBWRfdGJNWoq"
      }
    },
    {
      "cell_type": "markdown",
      "source": [
        "## Showcasing parts of code"
      ],
      "metadata": {
        "id": "1UbhDK12FT-6"
      }
    },
    {
      "cell_type": "markdown",
      "source": [
        "## segmenter.py explanation"
      ],
      "metadata": {
        "id": "YF6s8x3azFFH"
      }
    },
    {
      "cell_type": "code",
      "source": [
        "!python3 segmenter.py -i ../data/formulaire001-equation001.inkml -o ../data/bidule.lg"
      ],
      "metadata": {
        "id": "6dPWrT0DBnCO"
      },
      "execution_count": 4,
      "outputs": []
    },
    {
      "cell_type": "code",
      "source": [
        "!python3 segmenter.py -i ../data/formulaire001-equation001.inkml"
      ],
      "metadata": {
        "colab": {
          "base_uri": "https://localhost:8080/"
        },
        "id": "xV6ZMCZfP_Z2",
        "outputId": "3a1bfc98-ab3c-4147-c388-2e69419cad63"
      },
      "execution_count": 5,
      "outputs": [
        {
          "output_type": "stream",
          "name": "stdout",
          "text": [
            "O,hyp0,*,1.0,0\n",
            "O,hyp1,*,1.0,1\n",
            "O,hyp2,*,1.0,2\n",
            "O,hyp3,*,1.0,3\n",
            "O,hyp4,*,1.0,4\n",
            "O,hyp5,*,1.0,0,1\n",
            "O,hyp6,*,1.0,1,2\n",
            "O,hyp7,*,1.0,2,3\n",
            "O,hyp8,*,1.0,3,4\n",
            "O,hyp9,*,1.0,0,1,2\n",
            "O,hyp10,*,1.0,1,2,3\n",
            "O,hyp11,*,1.0,2,3,4\n",
            "O,hyp12,*,1.0,0,1,2,3\n",
            "O,hyp13,*,1.0,1,2,3,4\n",
            "\n"
          ]
        }
      ]
    },
    {
      "cell_type": "markdown",
      "source": [
        "Each line of this output corresponds to a hypothesis, indicating the symbol type, the symbol with index (dummy for now_, then the symbol without index, then the supposed confidence of the model. We also have the strokes used next to these informations.\n",
        "\n",
        "For now, we simply list every possible symbol, using every possible stroke in sequence, so if we have 4 strokes, we can make 13 possible symbols.  \n",
        "\n",
        "segmentSelect.py can be used to remove some hypotheses that don't make sense, for instance, the symbol that could be constructed with stroke [0,1,2,3,4] is highly unlikely to appear, so after training our classifier, we'd remove it.  \n",
        "Ground truth can be acquired from the lg files of the texts, since we have the strokes used as the 5th...i values."
      ],
      "metadata": {
        "id": "-6XdcfNlBrC6"
      }
    },
    {
      "cell_type": "markdown",
      "source": [
        "## Use this subsection when testing stuff for now"
      ],
      "metadata": {
        "id": "ScFP0M3SG8HL"
      }
    },
    {
      "cell_type": "code",
      "source": [
        "#!git stash\n",
        "#!git stash drop"
      ],
      "metadata": {
        "id": "hhzXOe_FXkkE",
        "outputId": "cca0092e-0bd5-4de1-e51f-b4d0dd8a26d1",
        "colab": {
          "base_uri": "https://localhost:8080/"
        }
      },
      "execution_count": 31,
      "outputs": [
        {
          "output_type": "stream",
          "name": "stdout",
          "text": [
            "Saved working directory and index state WIP on main: f67360a7f Updated path to git\n",
            "Dropped refs/stash@{0} (df132c49108d8fbb0e13f85fa54fb2058dbcb68a)\n"
          ]
        }
      ]
    },
    {
      "cell_type": "code",
      "source": [
        "#!git reset --soft HEAD^ "
      ],
      "metadata": {
        "id": "cKE7XoYNduo9"
      },
      "execution_count": 47,
      "outputs": []
    },
    {
      "cell_type": "code",
      "source": [
        "#!git add ."
      ],
      "metadata": {
        "id": "bCpa1mjKc4L3"
      },
      "execution_count": 48,
      "outputs": []
    },
    {
      "cell_type": "code",
      "source": [
        "#!git commit -m \"Added modified version of AlexNet to available models\""
      ],
      "metadata": {
        "id": "yX9WK8T8c6FW",
        "outputId": "dfce4c97-0260-4b02-f91e-278d3d5369a0",
        "colab": {
          "base_uri": "https://localhost:8080/"
        }
      },
      "execution_count": 49,
      "outputs": [
        {
          "output_type": "stream",
          "name": "stdout",
          "text": [
            "[main 23649ee38] Added modified version of AlexNet to available models\n",
            " 5 files changed, 53 insertions(+), 3 deletions(-)\n",
            " create mode 100644 code/output.png\n",
            " create mode 100644 code/resultMLP.png\n",
            " delete mode 100644 code/segmentSelector.nn\n"
          ]
        }
      ]
    },
    {
      "cell_type": "code",
      "source": [
        "#!git push"
      ],
      "metadata": {
        "id": "9uUZDwxbdA9Q",
        "outputId": "98e4499e-8268-42d4-849e-d751a754f4ef",
        "colab": {
          "base_uri": "https://localhost:8080/"
        }
      },
      "execution_count": 50,
      "outputs": [
        {
          "output_type": "stream",
          "name": "stdout",
          "text": [
            "Counting objects: 7, done.\n",
            "Delta compression using up to 2 threads.\n",
            "Compressing objects:  14% (1/7)   \rCompressing objects:  28% (2/7)   \rCompressing objects:  42% (3/7)   \rCompressing objects:  57% (4/7)   \rCompressing objects:  71% (5/7)   \rCompressing objects:  85% (6/7)   \rCompressing objects: 100% (7/7)   \rCompressing objects: 100% (7/7), done.\n",
            "Writing objects:  14% (1/7)   \rWriting objects:  28% (2/7)   \rWriting objects:  42% (3/7)   \rWriting objects:  57% (4/7)   \rWriting objects:  71% (5/7)   \rWriting objects:  85% (6/7)   \rWriting objects: 100% (7/7)   \rWriting objects: 100% (7/7), 35.49 KiB | 17.75 MiB/s, done.\n",
            "Total 7 (delta 3), reused 0 (delta 0)\n",
            "remote: Resolving deltas:   0% (0/3)\u001b[K\rremote: Resolving deltas:  33% (1/3)\u001b[K\rremote: Resolving deltas:  66% (2/3)\u001b[K\rremote: Resolving deltas: 100% (3/3)\u001b[K\rremote: Resolving deltas: 100% (3/3), completed with 3 local objects.\u001b[K\n",
            "To https://github.com/TristanFaine/Master_2_MLVC_Recognize_Handwritten_Equation.git\n",
            "   d1e450660..23649ee38  main -> main\n"
          ]
        }
      ]
    },
    {
      "cell_type": "code",
      "source": [
        "#!git pull"
      ],
      "metadata": {
        "id": "5cI9051zXXsT",
        "outputId": "47991b60-1722-4fac-f842-e6560f0814f7",
        "colab": {
          "base_uri": "https://localhost:8080/"
        }
      },
      "execution_count": 32,
      "outputs": [
        {
          "output_type": "stream",
          "name": "stdout",
          "text": [
            "Updating f67360a7f..d1e450660\n",
            "Fast-forward\n",
            " code/CROHME_train_segmentSelector.py |   8 \u001b[32m+++++\u001b[m\u001b[31m---\u001b[m\n",
            " code/segmentSelector.nn              | Bin \u001b[31m412319\u001b[m -> \u001b[32m249735\u001b[m bytes\n",
            " 2 files changed, 5 insertions(+), 3 deletions(-)\n"
          ]
        }
      ]
    },
    {
      "cell_type": "code",
      "source": [
        "!python3 CROHME_train_segmentSelector.py"
      ],
      "metadata": {
        "id": "DBL3xPInG-uD",
        "outputId": "a7dd833b-b321-4068-a88a-19e630ad774c",
        "colab": {
          "base_uri": "https://localhost:8080/"
        }
      },
      "execution_count": 42,
      "outputs": [
        {
          "output_type": "stream",
          "name": "stdout",
          "text": [
            "cuda:0\n",
            "20000\n",
            "('invalid', 'valid')\n",
            "nb classes 2 , training size 12000, val size 4000, test size 4000\n",
            "invalid invalid invalid invalid\n",
            "AlexNet(\n",
            "  (layer1): Sequential(\n",
            "    (0): Conv2d(1, 96, kernel_size=(11, 11), stride=(4, 4))\n",
            "    (1): BatchNorm2d(96, eps=1e-05, momentum=0.1, affine=True, track_running_stats=True)\n",
            "    (2): ReLU()\n",
            "  )\n",
            "  (layer2): Sequential(\n",
            "    (0): Conv2d(96, 384, kernel_size=(5, 5), stride=(1, 1), padding=(2, 2))\n",
            "    (1): BatchNorm2d(384, eps=1e-05, momentum=0.1, affine=True, track_running_stats=True)\n",
            "    (2): ReLU()\n",
            "  )\n",
            "  (layer3): Sequential(\n",
            "    (0): Conv2d(256, 384, kernel_size=(3, 3), stride=(1, 1), padding=(1, 1))\n",
            "    (1): BatchNorm2d(384, eps=1e-05, momentum=0.1, affine=True, track_running_stats=True)\n",
            "    (2): ReLU()\n",
            "  )\n",
            "  (layer4): Sequential(\n",
            "    (0): Conv2d(384, 384, kernel_size=(3, 3), stride=(1, 1), padding=(1, 1))\n",
            "    (1): BatchNorm2d(384, eps=1e-05, momentum=0.1, affine=True, track_running_stats=True)\n",
            "    (2): ReLU()\n",
            "  )\n",
            "  (layer5): Sequential(\n",
            "    (0): Conv2d(384, 256, kernel_size=(3, 3), stride=(1, 1), padding=(1, 1))\n",
            "    (1): BatchNorm2d(256, eps=1e-05, momentum=0.1, affine=True, track_running_stats=True)\n",
            "    (2): ReLU()\n",
            "  )\n",
            "  (fc): Sequential(\n",
            "    (0): Dropout(p=0.5, inplace=False)\n",
            "    (1): Linear(in_features=9216, out_features=4096, bias=True)\n",
            "    (2): ReLU()\n",
            "  )\n",
            "  (fc1): Sequential(\n",
            "    (0): Dropout(p=0.5, inplace=False)\n",
            "    (1): Linear(in_features=4096, out_features=4096, bias=True)\n",
            "    (2): ReLU()\n",
            "  )\n",
            "  (fc2): Sequential(\n",
            "    (0): Linear(in_features=4096, out_features=10, bias=True)\n",
            "  )\n",
            ")\n",
            "Epoch 1 batch  1000 \n",
            "Train loss : 0.059\n",
            "Validation loss mean : 0.037\n",
            "Epoch 1 of 10 took 33.970s\n",
            "Epoch 2 batch   500 \n",
            "Train loss : 0.034\n",
            "Validation loss mean : 0.032\n",
            "Epoch 2 batch  1500 \n",
            "Train loss : 0.029\n",
            "Validation loss mean : 0.029\n",
            "Epoch 2 of 10 took 33.988s\n",
            "Epoch 3 batch  1000 \n",
            "Train loss : 0.025\n",
            "Validation loss mean : 0.027\n",
            "Epoch 3 of 10 took 31.703s\n",
            "Epoch 4 batch   500 \n",
            "Train loss : 0.021\n",
            "Validation loss mean : 0.026\n",
            "Epoch 4 batch  1500 \n",
            "Train loss : 0.019\n",
            "Validation loss mean : 0.025\n",
            "Epoch 4 of 10 took 34.333s\n",
            "Epoch 5 batch  1000 \n",
            "Train loss : 0.015\n",
            "Validation loss mean : 0.023\n",
            "Epoch 5 of 10 took 31.764s\n",
            "Epoch 6 batch   500 \n",
            "Train loss : 0.014\n",
            "Validation loss mean : 0.023\n",
            "Epoch 6 batch  1500 \n",
            "Train loss : 0.013\n",
            "Validation loss mean : 0.024\n",
            "Epoch 6 of 10 took 34.319s\n",
            "Epoch 7 batch  1000 \n",
            "Train loss : 0.010\n",
            "Validation loss mean : 0.024\n",
            "Epoch 7 of 10 took 32.085s\n",
            "Epoch 8 batch   500 \n",
            "Train loss : 0.010\n",
            "Validation loss mean : 0.022\n",
            "Epoch 8 batch  1500 \n",
            "Train loss : 0.008\n",
            "Validation loss mean : 0.025\n",
            "Epoch 8 of 10 took 34.241s\n",
            "Epoch 9 batch  1000 \n",
            "Train loss : 0.006\n",
            "Validation loss mean : 0.026\n",
            "Epoch 9 of 10 took 31.677s\n",
            "Epoch 10 batch   500 \n",
            "Train loss : 0.006\n",
            "Validation loss mean : 0.024\n",
            "Epoch 10 batch  1500 \n",
            "Train loss : 0.005\n",
            "Validation loss mean : 0.025\n",
            "Epoch 10 of 10 took 34.280s\n",
            "Finished Training\n",
            "GroundTruth:  valid valid invalid valid valid invalid invalid valid\n",
            "Predicted:  valid valid invalid valid valid invalid invalid valid\n",
            "Accuracy of the network on the test images: 93 %\n",
            "Accuracy of invalid : 92 % (1893/2041)\n",
            "Accuracy of valid : 94 % (1858/1959)\n"
          ]
        }
      ]
    },
    {
      "cell_type": "markdown",
      "source": [
        "## segmentSelect.py explanation"
      ],
      "metadata": {
        "id": "m3W6Q2QxzNlh"
      }
    },
    {
      "cell_type": "code",
      "source": [
        "!python3 segmentSelect.py -o ../data/bidule2.lg ../data/formulaire001-equation001.inkml ../data/bidule.lg "
      ],
      "metadata": {
        "id": "pv0w5wivD61i"
      },
      "execution_count": 9,
      "outputs": []
    },
    {
      "cell_type": "code",
      "source": [
        "!python3 segmentSelect.py ../data/formulaire001-equation001.inkml ../data/bidule.lg "
      ],
      "metadata": {
        "colab": {
          "base_uri": "https://localhost:8080/"
        },
        "id": "1Y60IqgVQBhP",
        "outputId": "1437e1c8-3cab-4416-f0e4-c8a014eb169c"
      },
      "execution_count": 7,
      "outputs": [
        {
          "output_type": "stream",
          "name": "stdout",
          "text": [
            "Traceback (most recent call last):\n",
            "  File \"segmentSelect.py\", line 24, in <module>\n",
            "    model.load_state_dict(dict(torch.load('segmentSelector.nn')))\n",
            "  File \"/usr/local/lib/python3.7/dist-packages/torch/nn/modules/module.py\", line 1605, in load_state_dict\n",
            "    self.__class__.__name__, \"\\n\\t\".join(error_msgs)))\n",
            "RuntimeError: Error(s) in loading state_dict for SegmentSelector:\n",
            "\tMissing key(s) in state_dict: \"conv1.weight\", \"conv1.bias\", \"conv2.weight\", \"conv2.bias\", \"fc3.weight\", \"fc3.bias\". \n",
            "\tsize mismatch for fc1.weight: copying a param with shape torch.Size([100, 1024]) from checkpoint, the shape in current model is torch.Size([120, 400]).\n",
            "\tsize mismatch for fc1.bias: copying a param with shape torch.Size([100]) from checkpoint, the shape in current model is torch.Size([120]).\n",
            "\tsize mismatch for fc2.weight: copying a param with shape torch.Size([2, 100]) from checkpoint, the shape in current model is torch.Size([84, 120]).\n",
            "\tsize mismatch for fc2.bias: copying a param with shape torch.Size([2]) from checkpoint, the shape in current model is torch.Size([84]).\n"
          ]
        }
      ]
    },
    {
      "cell_type": "markdown",
      "source": [
        "This script takes as input the initial inkml file, alongside the \"prototype\" lg file: We combine the stroke combinations alongside the inkml data to generate images, then we check whether these make sense as a symbol, no matter the context.\n",
        "\n",
        "For now this simply gives a fully random probability that the images are valid symbols.\n",
        "\n",
        "Need to change two things in there, first adding a classifier to check the validity of supposed symbols,  \n",
        "then change the threshold based on empirical evidence or what I feel like at the time."
      ],
      "metadata": {
        "id": "1xt9xpt3FvIZ"
      }
    },
    {
      "cell_type": "markdown",
      "source": [
        "##segmentReco.py explanation"
      ],
      "metadata": {
        "id": "b0AIEfy9CsB0"
      }
    },
    {
      "cell_type": "code",
      "source": [
        "!chmod 777 ./symbolReco.py"
      ],
      "metadata": {
        "id": "XR29Exa-Hfmt"
      },
      "execution_count": null,
      "outputs": []
    },
    {
      "cell_type": "code",
      "source": [
        "!python3 symbolReco.py ../data/formulaire001-equation001.inkml ../data/bidule2.lg"
      ],
      "metadata": {
        "colab": {
          "base_uri": "https://localhost:8080/"
        },
        "outputId": "c5f18293-4618-4c86-87cc-5819ec7f5a56",
        "id": "duC2zf_nHfmu"
      },
      "execution_count": null,
      "outputs": [
        {
          "output_type": "stream",
          "name": "stdout",
          "text": [
            "O,hyp0,r,0.059779757207917304,0\n",
            "O,hyp0,geq,0.05030687013768514,0\n",
            "O,hyp1,2,0.05648836776140208,1\n",
            "O,hyp1,6,0.056168315175164935,1\n",
            "O,hyp1,8,0.05960923199570466,1\n",
            "O,hyp1,=,0.05475807870783242,1\n",
            "O,hyp1,geq,0.056816822917386364,1\n",
            "O,hyp3,f,0.0510902919404698,3\n",
            "O,hyp3,n,0.0586707731068381,3\n",
            "O,hyp3,u,0.053721497506933835,3\n",
            "O,hyp3,3,0.055092772863820916,3\n",
            "O,hyp4,b,0.05192545736402091,4\n",
            "O,hyp4,leq,0.07015718890027181,4\n",
            "O,hyp5,s,0.06121838413470821,0,1\n",
            "O,hyp5,A,0.050391613253440264,0,1\n",
            "O,hyp5,X,0.072619141223795,0,1\n",
            "O,hyp6,(,0.05046390880442578,1,2\n",
            "O,hyp7,p,0.06723378695795225,2,3\n",
            "O,hyp7,y,0.05172590875612772,2,3\n",
            "O,hyp7,1,0.05240988369270244,2,3\n",
            "O,hyp7,geq,0.058408507485593536,2,3\n",
            "O,hyp8,Z,0.053352030138174675,3,4\n",
            "O,hyp9,h,0.051727432180693006,0,1,2\n",
            "O,hyp9,C,0.05847255666598241,0,1,2\n",
            "O,hyp9,(,0.05560318869409104,0,1,2\n",
            "O,hyp9,geq,0.05338792763291579,0,1,2\n",
            "O,hyp10,r,0.055058494864859676,1,2,3\n",
            "O,hyp10,4,0.050618596960434595,1,2,3\n",
            "O,hyp11,c,0.05128946473017116,2,3,4\n",
            "O,hyp11,j,0.06079852247795053,2,3,4\n",
            "O,hyp11,w,0.05316091777564158,2,3,4\n",
            "O,hyp11,Y,0.05522000215632788,2,3,4\n",
            "O,hyp12,n,0.050532816195181345,0,1,2,3\n",
            "O,hyp13,E,0.06726193378991334,1,2,3,4\n",
            "O,hyp13,Y,0.05696633806544146,1,2,3,4\n",
            "O,hyp13,),0.06540731362648478,1,2,3,4\n",
            "\n"
          ]
        }
      ]
    }
  ]
}